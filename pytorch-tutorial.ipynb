{
 "cells": [
  {
   "cell_type": "markdown",
   "id": "ce17a38c",
   "metadata": {
    "papermill": {
     "duration": 0.007496,
     "end_time": "2022-11-23T17:00:17.416516",
     "exception": false,
     "start_time": "2022-11-23T17:00:17.409020",
     "status": "completed"
    },
    "tags": []
   },
   "source": [
    "## PyTorch Intro For Beginners\n",
    "\n",
    "PyTorch is an open source machine learning (ML) framework based on the Python programming language and the Torch library. Torch is an open source ML library used for creating deep neural networks and is written in the Lua scripting language. It's one of the preferred platforms for deep learning research.\n",
    "\n",
    "* [PyTorch Basics](#1)\n",
    "* [Linear Regression](#2)\n",
    "* [Logistic Regression](#3)\n",
    "* [Convolutional Neural Networks (CNNs)](#4)\n",
    "* [Recurrent Neural Networks (RNNs)](#5)\n",
    "* [Long Short Term Memory (LSTM)](#6)\n",
    "* [Using GPU on PyTorch](#7)\n",
    "* [Result](#8)"
   ]
  },
  {
   "cell_type": "markdown",
   "id": "10064fe2",
   "metadata": {
    "papermill": {
     "duration": 0.005423,
     "end_time": "2022-11-23T17:00:17.428184",
     "exception": false,
     "start_time": "2022-11-23T17:00:17.422761",
     "status": "completed"
    },
    "tags": []
   },
   "source": [
    "<a id = \"1\"></a>\n",
    "### PyTorch Basics"
   ]
  },
  {
   "cell_type": "code",
   "execution_count": 1,
   "id": "603d05a3",
   "metadata": {
    "_cell_guid": "b1076dfc-b9ad-4769-8c92-a6c4dae69d19",
    "_uuid": "8f2839f25d086af736a60e9eeb907d3b93b6e0e5",
    "execution": {
     "iopub.execute_input": "2022-11-23T17:00:17.441972Z",
     "iopub.status.busy": "2022-11-23T17:00:17.441371Z",
     "iopub.status.idle": "2022-11-23T17:00:19.391267Z",
     "shell.execute_reply": "2022-11-23T17:00:19.388965Z"
    },
    "papermill": {
     "duration": 1.960093,
     "end_time": "2022-11-23T17:00:19.394064",
     "exception": false,
     "start_time": "2022-11-23T17:00:17.433971",
     "status": "completed"
    },
    "tags": []
   },
   "outputs": [
    {
     "name": "stdout",
     "output_type": "stream",
     "text": [
      "Array shape:  torch.Size([2, 3])\n",
      "Array type:  <built-in method type of Tensor object at 0x7ffba67d3bf0>\n",
      "tensor([[4., 3., 3.],\n",
      "        [1., 2., 5.]])\n"
     ]
    }
   ],
   "source": [
    "# pytorch arrays\n",
    "import torch\n",
    "array = [[4,3,3],[1,2,5]]\n",
    "tensor = torch.Tensor(array)\n",
    "print(\"Array shape: \",tensor.shape)\n",
    "print(\"Array type: \",tensor.type)\n",
    "print(tensor)"
   ]
  },
  {
   "cell_type": "code",
   "execution_count": 2,
   "id": "92f66fa8",
   "metadata": {
    "execution": {
     "iopub.execute_input": "2022-11-23T17:00:19.407462Z",
     "iopub.status.busy": "2022-11-23T17:00:19.406616Z",
     "iopub.status.idle": "2022-11-23T17:00:19.413903Z",
     "shell.execute_reply": "2022-11-23T17:00:19.412750Z"
    },
    "papermill": {
     "duration": 0.016612,
     "end_time": "2022-11-23T17:00:19.416423",
     "exception": false,
     "start_time": "2022-11-23T17:00:19.399811",
     "status": "completed"
    },
    "tags": []
   },
   "outputs": [
    {
     "name": "stdout",
     "output_type": "stream",
     "text": [
      "tensor([[1., 1., 1., 1.],\n",
      "        [1., 1., 1., 1.],\n",
      "        [1., 1., 1., 1.]])\n"
     ]
    }
   ],
   "source": [
    "# pytorch ones\n",
    "print(torch.ones((3,4)))"
   ]
  },
  {
   "cell_type": "code",
   "execution_count": 3,
   "id": "624b791f",
   "metadata": {
    "execution": {
     "iopub.execute_input": "2022-11-23T17:00:19.429723Z",
     "iopub.status.busy": "2022-11-23T17:00:19.429272Z",
     "iopub.status.idle": "2022-11-23T17:00:19.438624Z",
     "shell.execute_reply": "2022-11-23T17:00:19.436741Z"
    },
    "papermill": {
     "duration": 0.018837,
     "end_time": "2022-11-23T17:00:19.441106",
     "exception": false,
     "start_time": "2022-11-23T17:00:19.422269",
     "status": "completed"
    },
    "tags": []
   },
   "outputs": [
    {
     "name": "stdout",
     "output_type": "stream",
     "text": [
      "tensor([[0.9121, 0.8208, 0.0870, 0.1105],\n",
      "        [0.5815, 0.2032, 0.6358, 0.9228],\n",
      "        [0.9980, 0.8192, 0.8905, 0.6899]])\n"
     ]
    }
   ],
   "source": [
    "# pytorch random\n",
    "print(torch.rand((3,4)))"
   ]
  },
  {
   "cell_type": "code",
   "execution_count": 4,
   "id": "5aba1a0c",
   "metadata": {
    "execution": {
     "iopub.execute_input": "2022-11-23T17:00:19.454478Z",
     "iopub.status.busy": "2022-11-23T17:00:19.453872Z",
     "iopub.status.idle": "2022-11-23T17:00:19.463732Z",
     "shell.execute_reply": "2022-11-23T17:00:19.462636Z"
    },
    "papermill": {
     "duration": 0.019096,
     "end_time": "2022-11-23T17:00:19.466001",
     "exception": false,
     "start_time": "2022-11-23T17:00:19.446905",
     "status": "completed"
    },
    "tags": []
   },
   "outputs": [
    {
     "name": "stdout",
     "output_type": "stream",
     "text": [
      "<class 'numpy.ndarray'> \n",
      "[[0.51743723 0.86000307]\n",
      " [0.64916454 0.5647909 ]]\n",
      "tensor([[0.5174, 0.8600],\n",
      "        [0.6492, 0.5648]], dtype=torch.float64)\n",
      "\n",
      "[[0.51743723 0.86000307]\n",
      " [0.64916454 0.5647909 ]]\n",
      "\n"
     ]
    }
   ],
   "source": [
    "# random numpy array\n",
    "import numpy as np\n",
    "array = np.random.rand(2,2)\n",
    "print(\"{} \\n{}\".format(type(array), array))\n",
    "\n",
    "# from numpy to torch tensor\n",
    "torch_tensor = torch.from_numpy(array)\n",
    "print(\"{}\\n\".format(torch_tensor))\n",
    "\n",
    "# tensor to numpy\n",
    "array = torch_tensor.numpy()\n",
    "print(\"{}\\n\".format(array))"
   ]
  },
  {
   "cell_type": "markdown",
   "id": "fda27b31",
   "metadata": {
    "papermill": {
     "duration": 0.005346,
     "end_time": "2022-11-23T17:00:19.477668",
     "exception": false,
     "start_time": "2022-11-23T17:00:19.472322",
     "status": "completed"
    },
    "tags": []
   },
   "source": [
    "##### Basic Mathematical Operations"
   ]
  },
  {
   "cell_type": "code",
   "execution_count": 5,
   "id": "221b538b",
   "metadata": {
    "execution": {
     "iopub.execute_input": "2022-11-23T17:00:19.492136Z",
     "iopub.status.busy": "2022-11-23T17:00:19.491721Z",
     "iopub.status.idle": "2022-11-23T17:00:19.509520Z",
     "shell.execute_reply": "2022-11-23T17:00:19.507629Z"
    },
    "papermill": {
     "duration": 0.02885,
     "end_time": "2022-11-23T17:00:19.512203",
     "exception": false,
     "start_time": "2022-11-23T17:00:19.483353",
     "status": "completed"
    },
    "tags": []
   },
   "outputs": [
    {
     "name": "stdout",
     "output_type": "stream",
     "text": [
      "tensor([[1., 1., 1.],\n",
      "        [1., 1., 1.],\n",
      "        [1., 1., 1.]])\n",
      "tensor([1., 1., 1., 1., 1., 1., 1., 1., 1.])\n",
      "Addition: tensor([[2., 2., 2.],\n",
      "        [2., 2., 2.],\n",
      "        [2., 2., 2.]])\n",
      "\n",
      "Subtraction: tensor([[0., 0., 0.],\n",
      "        [0., 0., 0.],\n",
      "        [0., 0., 0.]])\n",
      "\n",
      "Element wise multiplication: tensor([[1., 1., 1.],\n",
      "        [1., 1., 1.],\n",
      "        [1., 1., 1.]])\n",
      "\n",
      "Element wise division: tensor([[1., 1., 1.],\n",
      "        [1., 1., 1.],\n",
      "        [1., 1., 1.]])\n",
      "\n",
      "Mean: 169.0\n",
      "\n",
      "Standard deviation: 205.380615234375\n",
      "\n"
     ]
    }
   ],
   "source": [
    "# create tensor\n",
    "tensor = torch.ones((3,3))\n",
    "print(tensor)\n",
    "\n",
    "# resize\n",
    "print(tensor.view(tensor.shape[0] * tensor.shape[1]))\n",
    "\n",
    "# add\n",
    "print(\"Addition: {}\\n\".format(torch.add(tensor, tensor)))\n",
    "\n",
    "# subtraction\n",
    "print(\"Subtraction: {}\\n\".format(torch.sub(tensor, tensor)))\n",
    "\n",
    "# element-wise multiplication\n",
    "print(\"Element wise multiplication: {}\\n\".format(torch.mul(tensor, tensor)))\n",
    "\n",
    "# element-wise division\n",
    "print(\"Element wise division: {}\\n\".format(torch.div(tensor, tensor)))\n",
    "\n",
    "# Mean\n",
    "tensor = torch.Tensor([213,45,34,567,88,67])\n",
    "print(\"Mean: {}\\n\".format(tensor.mean()))\n",
    "\n",
    "# Standard deviation\n",
    "print(\"Standard deviation: {}\\n\".format(tensor.std()))"
   ]
  },
  {
   "cell_type": "markdown",
   "id": "d23fb478",
   "metadata": {
    "papermill": {
     "duration": 0.005564,
     "end_time": "2022-11-23T17:00:19.523899",
     "exception": false,
     "start_time": "2022-11-23T17:00:19.518335",
     "status": "completed"
    },
    "tags": []
   },
   "source": [
    "##### Variables\n",
    "\n",
    "The difference between variables and tensors is the variables accumulate gradients. For backpropagation we need variables.."
   ]
  },
  {
   "cell_type": "code",
   "execution_count": 6,
   "id": "b3429f86",
   "metadata": {
    "execution": {
     "iopub.execute_input": "2022-11-23T17:00:19.537322Z",
     "iopub.status.busy": "2022-11-23T17:00:19.536920Z",
     "iopub.status.idle": "2022-11-23T17:00:19.545154Z",
     "shell.execute_reply": "2022-11-23T17:00:19.544465Z"
    },
    "papermill": {
     "duration": 0.018248,
     "end_time": "2022-11-23T17:00:19.547915",
     "exception": false,
     "start_time": "2022-11-23T17:00:19.529667",
     "status": "completed"
    },
    "tags": []
   },
   "outputs": [
    {
     "data": {
      "text/plain": [
       "tensor([1., 1., 1.], requires_grad=True)"
      ]
     },
     "execution_count": 6,
     "metadata": {},
     "output_type": "execute_result"
    }
   ],
   "source": [
    "# import variables from pytorch lib\n",
    "from torch.autograd import Variable\n",
    "# define variable\n",
    "var = Variable(torch.ones(3), requires_grad = True)\n",
    "var"
   ]
  },
  {
   "cell_type": "code",
   "execution_count": 7,
   "id": "b0afa1b8",
   "metadata": {
    "execution": {
     "iopub.execute_input": "2022-11-23T17:00:19.561955Z",
     "iopub.status.busy": "2022-11-23T17:00:19.561554Z",
     "iopub.status.idle": "2022-11-23T17:00:19.589073Z",
     "shell.execute_reply": "2022-11-23T17:00:19.587381Z"
    },
    "papermill": {
     "duration": 0.037301,
     "end_time": "2022-11-23T17:00:19.591494",
     "exception": false,
     "start_time": "2022-11-23T17:00:19.554193",
     "status": "completed"
    },
    "tags": []
   },
   "outputs": [
    {
     "name": "stdout",
     "output_type": "stream",
     "text": [
      "y =  tensor([ 4., 16.], grad_fn=<PowBackward0>)\n",
      "o =  tensor(10., grad_fn=<MulBackward0>)\n"
     ]
    },
    {
     "data": {
      "text/plain": [
       "tensor([2., 4.])"
      ]
     },
     "execution_count": 7,
     "metadata": {},
     "output_type": "execute_result"
    }
   ],
   "source": [
    "# basic backpropagation\n",
    "# lets assume we have an equation that is y = x^2\n",
    "array = [2,4]\n",
    "tensor = torch.Tensor(array)\n",
    "x = Variable(tensor, requires_grad = True)\n",
    "y = x**2\n",
    "print(\"y = \",y)\n",
    "\n",
    "# recap o equation o = 1/2*sum(y)\n",
    "o = 1/2*sum(y)\n",
    "print(\"o = \",o)\n",
    "\n",
    "# backward\n",
    "o.backward()\n",
    "\n",
    "# gradients\n",
    "x.grad"
   ]
  },
  {
   "cell_type": "markdown",
   "id": "c13b7165",
   "metadata": {
    "papermill": {
     "duration": 0.005754,
     "end_time": "2022-11-23T17:00:19.603558",
     "exception": false,
     "start_time": "2022-11-23T17:00:19.597804",
     "status": "completed"
    },
    "tags": []
   },
   "source": [
    "<a id = \"2\"></a>\n",
    "### Linear Regression"
   ]
  },
  {
   "cell_type": "code",
   "execution_count": 8,
   "id": "9dc78939",
   "metadata": {
    "execution": {
     "iopub.execute_input": "2022-11-23T17:00:19.617518Z",
     "iopub.status.busy": "2022-11-23T17:00:19.617172Z",
     "iopub.status.idle": "2022-11-23T17:00:19.811703Z",
     "shell.execute_reply": "2022-11-23T17:00:19.810776Z"
    },
    "papermill": {
     "duration": 0.204026,
     "end_time": "2022-11-23T17:00:19.813798",
     "exception": false,
     "start_time": "2022-11-23T17:00:19.609772",
     "status": "completed"
    },
    "tags": []
   },
   "outputs": [
    {
     "data": {
      "image/png": "[encoded data removed]",
      "text/plain": [
       "<Figure size 432x288 with 1 Axes>"
      ]
     },
     "metadata": {
      "needs_background": "light"
     },
     "output_type": "display_data"
    }
   ],
   "source": [
    "# As a car company we collect this data from previous selling\n",
    "# lets define car prices\n",
    "car_prices_array = [3,4,5,6,7,8,9]\n",
    "car_price_np = np.array(car_prices_array,dtype=np.float32)\n",
    "car_price_np = car_price_np.reshape(-1,1)\n",
    "car_price_tensor = Variable(torch.from_numpy(car_price_np))\n",
    "\n",
    "# lets define number of car sell\n",
    "number_of_car_sell_array = [ 7.5, 7, 6.5, 6.0, 5.5, 5.0, 4.5]\n",
    "number_of_car_sell_np = np.array(number_of_car_sell_array,dtype=np.float32)\n",
    "number_of_car_sell_np = number_of_car_sell_np.reshape(-1,1)\n",
    "number_of_car_sell_tensor = Variable(torch.from_numpy(number_of_car_sell_np))\n",
    "\n",
    "# lets visualize our data\n",
    "import matplotlib.pyplot as plt\n",
    "plt.scatter(car_prices_array,number_of_car_sell_array)\n",
    "plt.xlabel(\"Car Price $\")\n",
    "plt.ylabel(\"Number of Car Sell\")\n",
    "plt.title(\"Car Price$ VS Number of Car Sell\")\n",
    "plt.show()"
   ]
  },
  {
   "cell_type": "code",
   "execution_count": 9,
   "id": "d1a2fc75",
   "metadata": {
    "execution": {
     "iopub.execute_input": "2022-11-23T17:00:19.830452Z",
     "iopub.status.busy": "2022-11-23T17:00:19.830069Z",
     "iopub.status.idle": "2022-11-23T17:00:19.834778Z",
     "shell.execute_reply": "2022-11-23T17:00:19.833877Z"
    },
    "papermill": {
     "duration": 0.014874,
     "end_time": "2022-11-23T17:00:19.837351",
     "exception": false,
     "start_time": "2022-11-23T17:00:19.822477",
     "status": "completed"
    },
    "tags": []
   },
   "outputs": [],
   "source": [
    "# libraries\n",
    "import torch\n",
    "from torch.autograd import Variable\n",
    "import torch.nn as nn\n",
    "import warnings\n",
    "warnings.filterwarnings(\"ignore\")"
   ]
  },
  {
   "cell_type": "code",
   "execution_count": 10,
   "id": "f89b369e",
   "metadata": {
    "execution": {
     "iopub.execute_input": "2022-11-23T17:00:19.852311Z",
     "iopub.status.busy": "2022-11-23T17:00:19.851870Z",
     "iopub.status.idle": "2022-11-23T17:00:20.167433Z",
     "shell.execute_reply": "2022-11-23T17:00:20.166642Z"
    },
    "papermill": {
     "duration": 0.32534,
     "end_time": "2022-11-23T17:00:20.169399",
     "exception": false,
     "start_time": "2022-11-23T17:00:19.844059",
     "status": "completed"
    },
    "tags": []
   },
   "outputs": [
    {
     "name": "stdout",
     "output_type": "stream",
     "text": [
      "epoch: 0, loss: 31.85201072692871\n",
      "epoch: 50, loss: 5.752820014953613\n",
      "epoch: 100, loss: 3.8874218463897705\n",
      "epoch: 150, loss: 2.6268937587738037\n",
      "epoch: 200, loss: 1.7751020193099976\n",
      "epoch: 250, loss: 1.1995116472244263\n",
      "epoch: 300, loss: 0.8105611205101013\n",
      "epoch: 350, loss: 0.5477308034896851\n",
      "epoch: 400, loss: 0.37012454867362976\n",
      "epoch: 450, loss: 0.2501089870929718\n",
      "epoch: 500, loss: 0.1690090149641037\n",
      "epoch: 550, loss: 0.1142064705491066\n",
      "epoch: 600, loss: 0.07717385143041611\n",
      "epoch: 650, loss: 0.05214941129088402\n",
      "epoch: 700, loss: 0.035239703953266144\n",
      "epoch: 750, loss: 0.02381322719156742\n",
      "epoch: 800, loss: 0.016091350466012955\n",
      "epoch: 850, loss: 0.010873713530600071\n",
      "epoch: 900, loss: 0.0073478855192661285\n",
      "epoch: 950, loss: 0.0049652946181595325\n",
      "epoch: 1000, loss: 0.0033553987741470337\n"
     ]
    },
    {
     "data": {
      "image/png": "[encoded data removed]",
      "text/plain": [
       "<Figure size 432x288 with 1 Axes>"
      ]
     },
     "metadata": {
      "needs_background": "light"
     },
     "output_type": "display_data"
    }
   ],
   "source": [
    "# create Linear Regression class\n",
    "class LinearRegression(nn.Module):\n",
    "    def __init__(self, input_size, output_size):\n",
    "        # accessing all things inherited from nn.Module\n",
    "        super(LinearRegression,self).__init__()\n",
    "        # linear function from nn.Module\n",
    "        self.linear = nn.Linear(input_dim, output_dim)\n",
    "        \n",
    "    def forward(self, x):\n",
    "        return self.linear(x)\n",
    "    \n",
    "# define model\n",
    "input_dim = 1\n",
    "output_dim = 1\n",
    "model = LinearRegression(input_dim, output_dim)\n",
    "\n",
    "# MSE\n",
    "mse = nn.MSELoss()\n",
    "\n",
    "# Optimization\n",
    "learning_rate = 0.02\n",
    "optimizer = torch.optim.SGD(model.parameters(), lr = learning_rate)\n",
    "\n",
    "# train model\n",
    "loss_list = []\n",
    "iteration_number = 1001\n",
    "for iteration in range(iteration_number):\n",
    "    \n",
    "    # optimization\n",
    "    optimizer.zero_grad()\n",
    "    \n",
    "    # forward to get output\n",
    "    results = model(car_price_tensor)\n",
    "    \n",
    "    # calculate loss\n",
    "    loss = mse(results, number_of_car_sell_tensor)\n",
    "    \n",
    "    # backward propagation\n",
    "    loss.backward()\n",
    "    \n",
    "    # updating parameters\n",
    "    optimizer.step()\n",
    "    \n",
    "    # store loss\n",
    "    loss_list.append(loss.data)\n",
    "    \n",
    "    # print loss for each 50 iterations\n",
    "    if(iteration % 50 == 0):\n",
    "        print(\"epoch: {}, loss: {}\".format(iteration, loss.data))\n",
    "        \n",
    "plt.plot(range(iteration_number), loss_list)\n",
    "plt.xlabel(\"Number of Iteration\")\n",
    "plt.ylabel(\"Loss\")\n",
    "plt.show()"
   ]
  },
  {
   "cell_type": "code",
   "execution_count": 11,
   "id": "851ee185",
   "metadata": {
    "execution": {
     "iopub.execute_input": "2022-11-23T17:00:20.186862Z",
     "iopub.status.busy": "2022-11-23T17:00:20.186198Z",
     "iopub.status.idle": "2022-11-23T17:00:20.362869Z",
     "shell.execute_reply": "2022-11-23T17:00:20.361870Z"
    },
    "papermill": {
     "duration": 0.187597,
     "end_time": "2022-11-23T17:00:20.365403",
     "exception": false,
     "start_time": "2022-11-23T17:00:20.177806",
     "status": "completed"
    },
    "tags": []
   },
   "outputs": [
    {
     "data": {
      "image/png": "[encoded data removed]",
      "text/plain": [
       "<Figure size 432x288 with 1 Axes>"
      ]
     },
     "metadata": {
      "needs_background": "light"
     },
     "output_type": "display_data"
    }
   ],
   "source": [
    "# predicted car prices\n",
    "predicted = model(car_price_tensor).data.numpy()\n",
    "plt.scatter(car_prices_array, number_of_car_sell_array, label = \"original data\", color = \"red\")\n",
    "plt.scatter(car_prices_array, predicted, label = \"predicted data\", color = \"blue\")\n",
    "plt.legend()\n",
    "plt.xlabel(\"Car Price $\")\n",
    "plt.ylabel(\"Number of Car Sell\")\n",
    "plt.title(\"Original vs Predicted Values\")\n",
    "plt.show()"
   ]
  },
  {
   "cell_type": "markdown",
   "id": "da6380c0",
   "metadata": {
    "papermill": {
     "duration": 0.006437,
     "end_time": "2022-11-23T17:00:20.379033",
     "exception": false,
     "start_time": "2022-11-23T17:00:20.372596",
     "status": "completed"
    },
    "tags": []
   },
   "source": [
    "<a id = \"3\"></a>\n",
    "### Logistic Regression"
   ]
  },
  {
   "cell_type": "markdown",
   "id": "bbe3f0e2",
   "metadata": {
    "papermill": {
     "duration": 0.006328,
     "end_time": "2022-11-23T17:00:20.392186",
     "exception": false,
     "start_time": "2022-11-23T17:00:20.385858",
     "status": "completed"
    },
    "tags": []
   },
   "source": [
    "This type of statistical model (also known as logit model) is often used for classification and predictive analytics. Logistic regression estimates the probability of an event occurring, such as voted or didn’t vote, based on a given dataset of independent variables. Since the outcome is a probability, the dependent variable is bounded between 0 and 1. In logistic regression, a logit transformation is applied on the odds—that is, the probability of success divided by the probability of failure. This is also commonly known as the log odds, or the natural logarithm of odds, and this logistic function is represented by the following formulas:\n",
    "\n",
    "Logit(pi) = 1/(1+ exp(-pi))\n",
    "\n",
    "ln(pi/(1-pi)) = Beta_0 + Beta_1*X_1 + … + B_k*K_k\n",
    "\n",
    "In this logistic regression equation, logit(pi) is the dependent or response variable and x is the independent variable. The beta parameter, or coefficient, in this model is commonly estimated via maximum likelihood estimation (MLE). This method tests different values of beta through multiple iterations to optimize for the best fit of log odds. All of these iterations produce the log likelihood function, and logistic regression seeks to maximize this function to find the best parameter estimate. Once the optimal coefficient (or coefficients if there is more than one independent variable) is found, the conditional probabilities for each observation can be calculated, logged, and summed together to yield a predicted probability. For binary classification, a probability less than .5 will predict 0 while a probability greater than 0 will predict 1.  After the model has been computed, it’s best practice to evaluate the how well the model predicts the dependent variable, which is called goodness of fit. The Hosmer–Lemeshow test is a popular method to assess model fit.\n",
    "\n",
    "Source: [https://www.ibm.com/topics/logistic-regression]"
   ]
  },
  {
   "cell_type": "code",
   "execution_count": 12,
   "id": "ec0efe69",
   "metadata": {
    "execution": {
     "iopub.execute_input": "2022-11-23T17:00:20.407282Z",
     "iopub.status.busy": "2022-11-23T17:00:20.406885Z",
     "iopub.status.idle": "2022-11-23T17:00:21.435553Z",
     "shell.execute_reply": "2022-11-23T17:00:21.434478Z"
    },
    "papermill": {
     "duration": 1.039484,
     "end_time": "2022-11-23T17:00:21.438361",
     "exception": false,
     "start_time": "2022-11-23T17:00:20.398877",
     "status": "completed"
    },
    "tags": []
   },
   "outputs": [],
   "source": [
    "# Import Libraries\n",
    "import torch\n",
    "import torch.nn as nn\n",
    "from torch.autograd import Variable\n",
    "from torch.utils.data import DataLoader\n",
    "import pandas as pd\n",
    "from sklearn.model_selection import train_test_split"
   ]
  },
  {
   "cell_type": "code",
   "execution_count": 13,
   "id": "56cdac50",
   "metadata": {
    "execution": {
     "iopub.execute_input": "2022-11-23T17:00:21.454532Z",
     "iopub.status.busy": "2022-11-23T17:00:21.454051Z",
     "iopub.status.idle": "2022-11-23T17:00:24.704760Z",
     "shell.execute_reply": "2022-11-23T17:00:24.703733Z"
    },
    "papermill": {
     "duration": 3.261811,
     "end_time": "2022-11-23T17:00:24.707368",
     "exception": false,
     "start_time": "2022-11-23T17:00:21.445557",
     "status": "completed"
    },
    "tags": []
   },
   "outputs": [],
   "source": [
    "# Prepare dataset\n",
    "# load data\n",
    "train_df = pd.read_csv(\"/kaggle/input/digit-recognizer/train.csv\", dtype = np.float32)\n",
    "\n",
    "# split data into features (pixels) and labels (numbers from 0 to 9)\n",
    "target = train_df.label.values\n",
    "\n",
    "# normalization of pixels\n",
    "features = train_df.loc[:,train_df.columns != \"label\"].values/255\n",
    "\n",
    "# train-test split. train data: 80% and test data: 20\n",
    "x_train, x_test, y_train, y_test = train_test_split(features, target, test_size = 0.2, random_state = 42)\n",
    "\n",
    "# create tensors for train set\n",
    "x_train = torch.from_numpy(x_train)\n",
    "y_train = torch.from_numpy(y_train).type(torch.LongTensor) # data type is long\n",
    "\n",
    "# create tensors for test set\n",
    "x_test = torch.from_numpy(x_test)\n",
    "y_test = torch.from_numpy(y_test).type(torch.LongTensor) # data type is long\n",
    "\n",
    "# batch_size, epoch and iteration\n",
    "batch_size = 100\n",
    "n_iters = 10000\n",
    "num_epochs = n_iters / (len(x_train) / batch_size)\n",
    "num_epochs = int(num_epochs)\n",
    "\n",
    "# pytorch train and test sets\n",
    "train = torch.utils.data.TensorDataset(x_train, y_train)\n",
    "test = torch.utils.data.TensorDataset(x_test, y_test)\n",
    "\n",
    "# data loader\n",
    "train_loader = DataLoader(train, batch_size = batch_size, shuffle = False)\n",
    "test_loader = DataLoader(test, batch_size = batch_size, shuffle = False)"
   ]
  },
  {
   "cell_type": "code",
   "execution_count": 14,
   "id": "ec513887",
   "metadata": {
    "execution": {
     "iopub.execute_input": "2022-11-23T17:00:24.723087Z",
     "iopub.status.busy": "2022-11-23T17:00:24.722681Z",
     "iopub.status.idle": "2022-11-23T17:00:24.802030Z",
     "shell.execute_reply": "2022-11-23T17:00:24.800997Z"
    },
    "papermill": {
     "duration": 0.089715,
     "end_time": "2022-11-23T17:00:24.804283",
     "exception": false,
     "start_time": "2022-11-23T17:00:24.714568",
     "status": "completed"
    },
    "tags": []
   },
   "outputs": [
    {
     "data": {
      "image/png": "[encoded data removed]",
      "text/plain": [
       "<Figure size 432x288 with 1 Axes>"
      ]
     },
     "metadata": {
      "needs_background": "light"
     },
     "output_type": "display_data"
    }
   ],
   "source": [
    "# visualize one of the image\n",
    "plt.imshow(features[13].reshape(28,28))\n",
    "plt.axis(\"off\")\n",
    "plt.title(str(int(target[13])))\n",
    "plt.savefig(\"graph.png\")\n",
    "plt.show()"
   ]
  },
  {
   "cell_type": "code",
   "execution_count": 15,
   "id": "3706aa2d",
   "metadata": {
    "execution": {
     "iopub.execute_input": "2022-11-23T17:00:24.826184Z",
     "iopub.status.busy": "2022-11-23T17:00:24.825042Z",
     "iopub.status.idle": "2022-11-23T17:00:24.833071Z",
     "shell.execute_reply": "2022-11-23T17:00:24.832304Z"
    },
    "papermill": {
     "duration": 0.021605,
     "end_time": "2022-11-23T17:00:24.835265",
     "exception": false,
     "start_time": "2022-11-23T17:00:24.813660",
     "status": "completed"
    },
    "tags": []
   },
   "outputs": [],
   "source": [
    "# create logistic regression model\n",
    "class LogisticRegressionModel(nn.Module):\n",
    "    def __init__(self, input_dim, output_dim):\n",
    "        super(LogisticRegressionModel, self).__init__()\n",
    "        # Linear part\n",
    "        self.linear = nn.Linear(input_dim, output_dim)\n",
    "        \n",
    "    def forward(self, x):\n",
    "        out = self.linear(x)\n",
    "        return out\n",
    "    \n",
    "# Instantiate model class\n",
    "input_dim = 28 * 28  # size of image px*px\n",
    "output_dim = 10  # labels 0,1,2,3,4,5,6,7,8,9\n",
    "\n",
    "# create model\n",
    "model = LogisticRegressionModel(input_dim, output_dim)\n",
    "\n",
    "# cross entropy loss\n",
    "error = nn.CrossEntropyLoss()\n",
    "\n",
    "# SGD optimizer\n",
    "learning_rate = 0.001\n",
    "optimizer = torch.optim.SGD(model.parameters(), lr = learning_rate)"
   ]
  },
  {
   "cell_type": "code",
   "execution_count": 16,
   "id": "69a11c20",
   "metadata": {
    "execution": {
     "iopub.execute_input": "2022-11-23T17:00:24.855339Z",
     "iopub.status.busy": "2022-11-23T17:00:24.854660Z",
     "iopub.status.idle": "2022-11-23T17:00:46.854187Z",
     "shell.execute_reply": "2022-11-23T17:00:46.853106Z"
    },
    "papermill": {
     "duration": 22.012449,
     "end_time": "2022-11-23T17:00:46.856705",
     "exception": false,
     "start_time": "2022-11-23T17:00:24.844256",
     "status": "completed"
    },
    "tags": []
   },
   "outputs": [
    {
     "name": "stdout",
     "output_type": "stream",
     "text": [
      "Iteration: 500 Loss: 1.8168820142745972 Accuracy: 66.5%\n",
      "Iteration: 1000 Loss: 1.6109713315963745 Accuracy: 74.98809814453125%\n",
      "Iteration: 1500 Loss: 1.3011137247085571 Accuracy: 78.21428680419922%\n",
      "Iteration: 2000 Loss: 1.2069765329360962 Accuracy: 80.21428680419922%\n",
      "Iteration: 2500 Loss: 1.0379571914672852 Accuracy: 80.95237731933594%\n",
      "Iteration: 3000 Loss: 0.9332837462425232 Accuracy: 81.94047546386719%\n",
      "Iteration: 3500 Loss: 0.8894906640052795 Accuracy: 82.5%\n",
      "Iteration: 4000 Loss: 0.7514604926109314 Accuracy: 82.9047622680664%\n",
      "Iteration: 4500 Loss: 0.9589231014251709 Accuracy: 83.44047546386719%\n",
      "Iteration: 5000 Loss: 0.7952845096588135 Accuracy: 83.75%\n",
      "Iteration: 5500 Loss: 0.7554088830947876 Accuracy: 84.11904907226562%\n",
      "Iteration: 6000 Loss: 0.8651386499404907 Accuracy: 84.47618865966797%\n",
      "Iteration: 6500 Loss: 0.6461273431777954 Accuracy: 84.75%\n",
      "Iteration: 7000 Loss: 0.7137735486030579 Accuracy: 85.0%\n",
      "Iteration: 7500 Loss: 0.6412955522537231 Accuracy: 85.14286041259766%\n",
      "Iteration: 8000 Loss: 0.739159345626831 Accuracy: 85.35713958740234%\n",
      "Iteration: 8500 Loss: 0.5412102341651917 Accuracy: 85.46428680419922%\n",
      "Iteration: 9000 Loss: 0.6599903106689453 Accuracy: 85.64286041259766%\n",
      "Iteration: 9500 Loss: 0.5268924832344055 Accuracy: 85.63095092773438%\n"
     ]
    }
   ],
   "source": [
    "# training model\n",
    "count = 0\n",
    "loss_list = []\n",
    "iteration_list = []\n",
    "for epoch in range(num_epochs):\n",
    "    for i, (images, labels) in enumerate(train_loader):\n",
    "        \n",
    "        # define variables\n",
    "        train = Variable(images.view(-1, 28*28))\n",
    "        labels = Variable(labels)\n",
    "        \n",
    "        # clear gradients\n",
    "        optimizer.zero_grad()\n",
    "        \n",
    "        # Forward propagation\n",
    "        outputs = model(train)\n",
    "        \n",
    "        # calculate softmax and cross entropy loss\n",
    "        loss = error(outputs, labels)\n",
    "        \n",
    "        # calculate gradients\n",
    "        loss.backward()\n",
    "        \n",
    "        # update parameters\n",
    "        optimizer.step()\n",
    "        \n",
    "        count += 1\n",
    "        \n",
    "        # prediction\n",
    "        if count % 50 == 0:\n",
    "            # calculate accuracy\n",
    "            correct = 0\n",
    "            total = 0\n",
    "            # predict test dataset\n",
    "            for images, labels in test_loader:\n",
    "                test = Variable(images.view(-1, 28*28))\n",
    "                \n",
    "                # forward propagation\n",
    "                outputs = model(test)\n",
    "                \n",
    "                # get predictions from the maximum value\n",
    "                predicted = torch.max(outputs.data, 1)[1]\n",
    "                \n",
    "                # total number of labels\n",
    "                total += len(labels)\n",
    "                \n",
    "                # total correct predictions\n",
    "                correct += (predicted == labels).sum()\n",
    "                \n",
    "            accuracy = 100 * correct / float(total)\n",
    "            \n",
    "            # store loss and iteration\n",
    "            loss_list.append(loss.data)\n",
    "            iteration_list.append(count)\n",
    "        if count % 500 == 0:\n",
    "            # print loss\n",
    "            print(\"Iteration: {} Loss: {} Accuracy: {}%\".format(count, loss.data, accuracy))"
   ]
  },
  {
   "cell_type": "code",
   "execution_count": 17,
   "id": "f4f972f4",
   "metadata": {
    "execution": {
     "iopub.execute_input": "2022-11-23T17:00:46.875379Z",
     "iopub.status.busy": "2022-11-23T17:00:46.874652Z",
     "iopub.status.idle": "2022-11-23T17:00:47.019866Z",
     "shell.execute_reply": "2022-11-23T17:00:47.018950Z"
    },
    "papermill": {
     "duration": 0.156711,
     "end_time": "2022-11-23T17:00:47.021878",
     "exception": false,
     "start_time": "2022-11-23T17:00:46.865167",
     "status": "completed"
    },
    "tags": []
   },
   "outputs": [
    {
     "data": {
      "image/png": "[encoded data removed]",
      "text/plain": [
       "<Figure size 432x288 with 1 Axes>"
      ]
     },
     "metadata": {
      "needs_background": "light"
     },
     "output_type": "display_data"
    }
   ],
   "source": [
    "# evaluation\n",
    "plt.plot(iteration_list, loss_list)\n",
    "plt.xlabel(\"Number of iteration\")\n",
    "plt.ylabel(\"Loss\")\n",
    "plt.title(\"Logistic regression: loss vs number of iteration\")\n",
    "plt.show()"
   ]
  },
  {
   "cell_type": "code",
   "execution_count": null,
   "id": "567123fc",
   "metadata": {
    "papermill": {
     "duration": 0.007943,
     "end_time": "2022-11-23T17:00:47.038221",
     "exception": false,
     "start_time": "2022-11-23T17:00:47.030278",
     "status": "completed"
    },
    "tags": []
   },
   "outputs": [],
   "source": []
  }
 ],
 "metadata": {
  "kernelspec": {
   "display_name": "Python 3",
   "language": "python",
   "name": "python3"
  },
  "language_info": {
   "codemirror_mode": {
    "name": "ipython",
    "version": 3
   },
   "file_extension": ".py",
   "mimetype": "text/x-python",
   "name": "python",
   "nbconvert_exporter": "python",
   "pygments_lexer": "ipython3",
   "version": "3.7.12"
  },
  "papermill": {
   "default_parameters": {},
   "duration": 40.649942,
   "end_time": "2022-11-23T17:00:47.971256",
   "environment_variables": {},
   "exception": null,
   "input_path": "__notebook__.ipynb",
   "output_path": "__notebook__.ipynb",
   "parameters": {},
   "start_time": "2022-11-23T17:00:07.321314",
   "version": "2.3.4"
  }
 },
 "nbformat": 4,
 "nbformat_minor": 5
}
